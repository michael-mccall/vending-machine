{
 "cells": [
  {
   "cell_type": "markdown",
   "metadata": {
    "id": "h5NsbgMp1onf"
   },
   "source": [
    "## Section 1: Data loading and manipulation"
   ]
  },
  {
   "cell_type": "markdown",
   "metadata": {
    "id": "dPagEbppo3sz"
   },
   "source": [
    "Work with two files that are located via dropbox:\n",
    "1. `vending_machine.csv`: A table that shows the code to be entered in the vending machine keyboard to get a certain snack. It also contains the amount of products in each slot. The file can be read from this addres: https://www.dropbox.com/s/vy61ldio3t02lqy/vending_machine.csv?raw=1\n",
    "\n",
    "2. `stock.csv`: A table with the name of each snack (without capitalisation), the category and the price. The file can be read from this addres: https://www.dropbox.com/s/qwl4i3slj4mklsj/stock.csv?raw=1"
   ]
  },
  {
   "cell_type": "markdown",
   "metadata": {
    "id": "NTtyOuwqpkIS"
   },
   "source": [
    "By running the following code cells, you can to read and print the two files as pandas data frames:"
   ]
  },
  {
   "cell_type": "code",
   "execution_count": null,
   "metadata": {
    "colab": {
     "base_uri": "https://localhost:8080/",
     "height": 551
    },
    "id": "RR8mjH5Wpqxp",
    "outputId": "f94a948f-b5ae-4fbb-b506-ddf4d1cfe65a"
   },
   "outputs": [],
   "source": [
    "import pandas as pd\n",
    "\n",
    "vending_machine = pd.read_csv('https://www.dropbox.com/s/vy61ldio3t02lqy/vending_machine.csv?raw=1')\n",
    "vending_machine"
   ]
  },
  {
   "cell_type": "code",
   "execution_count": null,
   "metadata": {
    "colab": {
     "base_uri": "https://localhost:8080/",
     "height": 300
    },
    "id": "pi-nIxExpy7c",
    "outputId": "12023865-5add-4eaa-9cf6-01f33d6040c5"
   },
   "outputs": [],
   "source": [
    "stock = pd.read_csv('https://www.dropbox.com/s/qwl4i3slj4mklsj/stock.csv?raw=1')\n",
    "stock"
   ]
  },
  {
   "cell_type": "markdown",
   "metadata": {
    "id": "3fXanncc659V"
   },
   "source": [
    "To use these data frames in your program, first you need to **merge** them as a single data frame which first requires item names to be the same on both dataframes."
   ]
  },
  {
   "cell_type": "code",
   "execution_count": null,
   "metadata": {},
   "outputs": [],
   "source": [
    "def change_name(name):\n",
    "    if \"irn-bru\" in name:\n",
    "        for word in name.split(\"'s\"):\n",
    "            name = word[0 : ]\n",
    "            name = name.lstrip(\"' \")\n",
    "            name = name[0].upper() + name[1:]\n",
    "        return name\n",
    "    if \"'s\" in name:\n",
    "        for word in name.split(\"'s\"):\n",
    "            name = word[0 : ]\n",
    "            name = name.lstrip(\"'s \").title()\n",
    "        return name\n",
    "    else:\n",
    "        for word in name.split(\"s' \"):\n",
    "            name = word[0 : ]\n",
    "            name = name.title()\n",
    "        return name\n",
    "\n",
    "stock['snack'] = stock['snack'].apply(change_name)\n",
    "stock"
   ]
  },
  {
   "cell_type": "code",
   "execution_count": null,
   "metadata": {
    "colab": {
     "base_uri": "https://localhost:8080/",
     "height": 582
    },
    "id": "AvSie2BKwUtF",
    "outputId": "f97e3d20-f9a9-4163-db75-f050e9756208",
    "scrolled": true
   },
   "outputs": [],
   "source": [
    "full = pd.merge(vending_machine, stock, how=\"left\", on=\"snack\")\n",
    "\n",
    "\n",
    "indexed = full.set_index('machine_code')\n",
    "\n",
    "indexed"
   ]
  },
  {
   "cell_type": "markdown",
   "metadata": {
    "id": "NifUbvq2tKYq"
   },
   "source": [
    "### Adding Three Cans of Irn Bru"
   ]
  },
  {
   "cell_type": "code",
   "execution_count": null,
   "metadata": {
    "colab": {
     "base_uri": "https://localhost:8080/",
     "height": 582
    },
    "id": "Lgzoucg1tW0Y",
    "outputId": "e3560a94-897a-446d-9b5f-8d87f3be6b4a"
   },
   "outputs": [],
   "source": [
    "indexed.loc['B4', [\"snack\", \"amount\", \"category\", \"price\"]] = [\"Irn-bru\", \"3.0\", \"drinks\", \"3.00\"]\n",
    " \n",
    "\n",
    "indexed"
   ]
  },
  {
   "cell_type": "markdown",
   "metadata": {
    "id": "M2yAfKwc1s1F"
   },
   "source": [
    "## Section 2: Vending Machine Simulation Program"
   ]
  },
  {
   "cell_type": "markdown",
   "metadata": {
    "id": "kPLm-wTF12Wz"
   },
   "source": [
    "Once that you have generated your merged dataset, you will use the following code cell to write a small program with the following *four* options:\n",
    "\n",
    "1. **Admin login**: This option will simulate how the vending machine operator validates their credentials. When this option is selected, the user should be prompted to input their username and password. The username should be *admin* and the password is be any number smaller than *10*. You should allow the user to try *four* times, if all of them are incorrect, then the program stops and the program cell needs to be run again.\n",
    "\n",
    "  * Note: Once that an admin has logged in, this option has to be disabled (i.e. the user cannot go back and select this option).\n",
    "\n",
    "2. **Add products**: This option can only be accessed once option 1 has been completed, otherwise the message *login first!* should be displayed and the program should go back to the main menu. In this option, the admin will be shown the list of snacks and categories in the vending machine. Then, the admin can input a machine code slot to add *one more product* for that certain slot. Afterwards, the program should show the new stock and go back to the main menu.\n",
    "  \n",
    "  * Note: Keep in mind that each space in the vending machine can hold a maximum of *eight* products (of the same snack, of course). Also, you cannot add products in the empty slots. Therefore, your program should warn the admin in case that they want to add more products of a specific snack in a slot, or if the admin wants to add products in an empty slot.\n",
    "\n",
    "3. **Buy snacks**: This option can be accessed by \"anyone\", so there is no need for a validation. If this option is selected, the user will be shown the list of snacks, amounts and prices. Then, the user will be requested to select one snack based on the `machine_code`. Once the snack is selected, your program must display the price of the selected product. Then, the user will be prompted to pay. To simulate this payment, you will ask the user for an input and write any positive number (if the user inputs something invalid, ask to try again). Then, your program must check this number against the price of the product to be bought. If the input number is larger than the price, then you should return *your change is...* and the subtraction of the payment minus the price of the snack. If the number is equal to the price, then you must return *thanks for paying*. Else, you should output *you need to pay more* and allow the user to write another amount. After the \"purchase\", you should output to the user the number of products left for that particular snack (therefore, you need to update the data frame!). Notice that if there were zero products left for the snack selected, then you must prompt this to the user in advance before letting them buy, and ask them to select another snack.\n",
    "\n",
    "4. **Exit**"
   ]
  },
  {
   "cell_type": "code",
   "execution_count": null,
   "metadata": {},
   "outputs": [],
   "source": [
    "#formatting DF before running\n",
    "\n",
    "indexed = indexed.astype({\"amount\": float, \"price\" : float})\n",
    "indexed['amount'] = indexed['amount'].fillna(0)\n",
    "indexed = indexed.astype({\"price\": float, \"price\" : float})\n",
    "indexed['price'] = indexed['price'].fillna(0)\n",
    "indexed = indexed.drop('category', 1)"
   ]
  },
  {
   "cell_type": "code",
   "execution_count": null,
   "metadata": {},
   "outputs": [],
   "source": [
    "#function for adding snacks within overall Vending Machine programme\n",
    "\n",
    "def add_snack():\n",
    "    print(indexed)\n",
    "    loop_two = True\n",
    "    while loop_two == True:\n",
    "        code = input(\"Enter Code:\")\n",
    "        check = full['machine_code'] == code\n",
    "        if check.any():\n",
    "            x = indexed.at[code, 'amount']\n",
    "            snack_name = indexed.at[code, 'snack']\n",
    "            if snack_name == '' or pd.isnull(snack_name): \n",
    "                print(\"Slot empty, please select a valid slot\")\n",
    "            else:\n",
    "                if x >= 8:\n",
    "                    print(\"Slot full, please select a valid slot\")\n",
    "                if x < 8:\n",
    "                    indexed.at[code, 'amount'] = x + 1\n",
    "                    print(f\"Succesfully added one {indexed.at[code, 'snack']} at position {code}\")\n",
    "                    print(indexed)\n",
    "                    loop_two = False\n",
    "        else:\n",
    "            print(\"Please select a valid code\")\n"
   ]
  },
  {
   "cell_type": "code",
   "execution_count": null,
   "metadata": {},
   "outputs": [],
   "source": [
    "#function for purchasing snacks contained within overall Vending MAchine programme\n",
    "\n",
    "def buy_snack():\n",
    "    loop_three = True\n",
    "    print(indexed)\n",
    "    while loop_three == True:\n",
    "        snack = input(\"Please enter code of desired snack: \")\n",
    "        check = full['machine_code'] == snack\n",
    "        if check.any():\n",
    "            x = indexed.at[snack, 'amount']\n",
    "            if x == 0:\n",
    "                print(\"Slot empty, please select a valid slot\")\n",
    "            if x > 0:\n",
    "                price = indexed.at[snack, 'price']\n",
    "                print(f\"You have selected {indexed.at[snack, 'snack']}, the price is £{price:.2f}\")\n",
    "                money = input(\"Please Insert Cash: £\")\n",
    "                try:\n",
    "                    money = float(money)\n",
    "                    loop_four = True\n",
    "                    while loop_four == True:\n",
    "                        if money < price: \n",
    "                            print(f\"The price is £{price:.2f}, you have entered £{money:.2f}. £{price - money:.2f} still to pay\")\n",
    "                            money = money + float(input('Please Insert Cash: £'))\n",
    "                        if money >= price:\n",
    "                            indexed.at[snack, 'amount'] = x - 1\n",
    "                            print(indexed)\n",
    "                            print(f\"Here is your item, your change is £{money - price:.2f}\")\n",
    "                            loop_three = False\n",
    "                            loop_four = False\n",
    "                except ValueError:\n",
    "                    print(f'INVALID INPUT, returning to purchasing screen menu. Here is your inserted cash: £{money}')\n",
    "        else:\n",
    "            print(\"Please enter a valid code\")\n"
   ]
  },
  {
   "cell_type": "markdown",
   "metadata": {},
   "source": [
    "# The Vending Machine"
   ]
  },
  {
   "cell_type": "code",
   "execution_count": null,
   "metadata": {},
   "outputs": [],
   "source": [
    "def check_input(p):    #For checing user input is float\n",
    "    try:\n",
    "        p = float(p)\n",
    "    except ValueError:\n",
    "        return False\n",
    "\n",
    "def password_check():  #Error messages if admin login incorrect\n",
    "    if counter == 3:\n",
    "        print(f'USERNAME OR PASSWORD INCORRECT FINAL ATTEMPT')\n",
    "    else:\n",
    "        print(f'USERNAME OR PASSWORD INCORRECT, {4 - counter} attempts remaining')\n",
    "\n",
    "counter = 0\n",
    "admin = 0\n",
    "loop = True\n",
    "while loop == True and counter < 4:\n",
    "    print(\"Please select your option\")\n",
    "    print(\"Option 1: Admin Login\")\n",
    "    print(\"Option 2: Add Snacks (requires admin login)\")\n",
    "    print(\"Option 3: Buy Snacks\")\n",
    "    print(\"Option 0: Exit\")\n",
    "    opt = input(\">>\")\n",
    "    \n",
    "    if opt == \"1\" and admin == 0:\n",
    "        user = input('Username:')\n",
    "        password = input('Password:')\n",
    "        if check_input(password) == False:\n",
    "            counter = counter + 1\n",
    "            password_check()\n",
    "        else:\n",
    "            password = float(password)\n",
    "            if user == 'admin' and password < float('10'):\n",
    "                admin = admin + 1\n",
    "                print(\"ADMIN PRIVILEGES ENABLED\")\n",
    "                opt = None\n",
    "            else:\n",
    "                counter = counter + 1\n",
    "                password_check()\n",
    "                \n",
    "    if opt == \"1\" and admin == 1:\n",
    "        print(\"ALREADY LOGGED IN\")\n",
    "      \n",
    "    if opt == \"2\":\n",
    "        if admin == 1:\n",
    "            add_snack()\n",
    "        else:\n",
    "            print(\"PLEASE LOGIN FIRST\")\n",
    "    \n",
    "    if opt == \"3\":\n",
    "        buy_snack()\n",
    "\n",
    "        \n",
    "    elif opt == \"0\":\n",
    "        print(\"Thankyou, goodbye!\")\n",
    "        loop = False"
   ]
  }
 ],
 "metadata": {
  "colab": {
   "collapsed_sections": [],
   "name": "CMM202 Coursework P1 Instructions solved",
   "provenance": []
  },
  "hide_input": false,
  "kernelspec": {
   "display_name": "Python 3",
   "language": "python",
   "name": "python3"
  },
  "language_info": {
   "codemirror_mode": {
    "name": "ipython",
    "version": 3
   },
   "file_extension": ".py",
   "mimetype": "text/x-python",
   "name": "python",
   "nbconvert_exporter": "python",
   "pygments_lexer": "ipython3",
   "version": "3.8.8"
  },
  "varInspector": {
   "cols": {
    "lenName": 16,
    "lenType": 16,
    "lenVar": 40
   },
   "kernels_config": {
    "python": {
     "delete_cmd_postfix": "",
     "delete_cmd_prefix": "del ",
     "library": "var_list.py",
     "varRefreshCmd": "print(var_dic_list())"
    },
    "r": {
     "delete_cmd_postfix": ") ",
     "delete_cmd_prefix": "rm(",
     "library": "var_list.r",
     "varRefreshCmd": "cat(var_dic_list()) "
    }
   },
   "types_to_exclude": [
    "module",
    "function",
    "builtin_function_or_method",
    "instance",
    "_Feature"
   ],
   "window_display": false
  }
 },
 "nbformat": 4,
 "nbformat_minor": 1
}
